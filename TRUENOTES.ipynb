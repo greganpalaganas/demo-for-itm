{
 "cells": [
  {
   "cell_type": "code",
   "execution_count": null,
   "id": "9b628a30-56d9-481d-b889-9ab86cc49889",
   "metadata": {},
   "outputs": [],
   "source": [
    "#First step is import the data set\n",
    "\n",
    "import pandas as pd\n",
    "\n",
    "df = pd.read_csv('denormalized_li.csv') #just replace 'denormalized_li.csv' with the file you will use\n",
    "\n",
    "#Basics~~\n",
    "\n",
    "df.head(10)\n",
    "#shows first 10 columns)\n",
    "\n",
    "df.tail(6)\n",
    "#shows last 6 rows\n",
    "\n",
    "#some useful commands- \n",
    "df.columns \n",
    "df.index\n",
    "df.info\n",
    "df.describe\n",
    "df.shape"
   ]
  },
  {
   "cell_type": "markdown",
   "id": "869832a3-f762-4a79-8243-473c08840969",
   "metadata": {},
   "source": [
    "#Data Subsetting\n",
    "\n",
    "1. df[['product_name', 'product_price', 'product_brand']]\n",
    "2. df.iloc[1, 3]\n",
    "3. df.loc[:, ['product_name', 'product_brand']] #the \":\" here means all rows\n",
    "\n"
   ]
  },
  {
   "cell_type": "code",
   "execution_count": null,
   "id": "7d053dd7-051d-4df9-b6d5-55f089856b16",
   "metadata": {},
   "outputs": [],
   "source": [
    "#Boolean Expressions\n",
    "\n",
    "1.df['product_name'] == 'Blender'\n",
    "#this finds where product = blender\n",
    "2. df.iloc[:, 1]\n",
    "#this makes it state ALL rows, but only the first column\n",
    "3. df.iloc[[5]]\n",
    "#this is for rows\n",
    "4. df.iloc[:5, :5]\n",
    "#this works for subsetting the first 5 rows and columns (slices)\n",
    "5. df.loc[df['product_name'] == 'Blender']\n",
    "#this will make you find rows where there is only blender\n",
    "6. df.loc[(df['product_name'] == 'Blender')\n",
    "    & (df['product_brand'] == 'Oster')\n",
    "    ]\n",
    "\n",
    "#you are combining the filter, and the \"&\" sign can be interchanged with a (|) sign \n",
    "#if you want to do the inverse, just add the \"~\" \n",
    "\n"
   ]
  },
  {
   "cell_type": "code",
   "execution_count": null,
   "id": "e5436556-0694-4f05-aa80-39816221d46e",
   "metadata": {},
   "outputs": [],
   "source": [
    "#Query\n",
    "\n",
    "1. df.query('transaction_id > 42')\n",
    "2. df.query('(transaction_id > 42) and (product_brand == \"Dyson\")')\n",
    "\n"
   ]
  },
  {
   "cell_type": "code",
   "execution_count": null,
   "id": "c4bd87fc-d5b3-4fe1-8ce6-62161abfe91e",
   "metadata": {},
   "outputs": [],
   "source": [
    "#summarizing data\n",
    "\n",
    "1.df['line_item_id'].mean()\n",
    "#you can replaces \"mean\" with \n",
    "#max, min, std, var, count, sum, quantile, \n",
    "2.df[['line_item_id', 'transaction_id']].mean()\n",
    "3.df[['line_item_id', 'transaction_id']].agg(['mean', 'max'])\n",
    "#\"agg\" is to do ask for more than 1 stat\""
   ]
  },
  {
   "cell_type": "code",
   "execution_count": null,
   "id": "d33c165a-596a-4792-aee1-0b283eaf363b",
   "metadata": {},
   "outputs": [],
   "source": [
    "#summing caterogorical values\n",
    "\n",
    "1.df['product_brand'].unique() #tells u the categories\n",
    "2.df['product_brand'].nunique() #tells u the number of catergoies\n",
    "3. df['product_brand'].value_counts()\n",
    "#number of counts of each value in that field \n",
    "4. df.loc[df['product_name'] == 'Tablet']['line_item_quantity'].sum()\n",
    "#This finds the total number of tablets purchased \n",
    "5. df['product_brand'] = df['product_brand'] * 55\n",
    "\n"
   ]
  },
  {
   "cell_type": "code",
   "execution_count": null,
   "id": "eaacdd7b-4cb3-4b9c-be2a-a1c80e3bdef6",
   "metadata": {},
   "outputs": [],
   "source": [
    "#advanved column methods\n",
    "\n",
    "1. df[['line_item_id']].rank()\n",
    "2. df.iloc[2:5, 0:5] #[row, column]"
   ]
  },
  {
   "cell_type": "code",
   "execution_count": null,
   "id": "f7063fb6-1703-4358-a4a1-9cb058b4ca94",
   "metadata": {},
   "outputs": [],
   "source": [
    "#groupby\n",
    "\n",
    "df.groupby('transaction_id')[['line_item_id']].agg(['mean', 'min'])"
   ]
  },
  {
   "cell_type": "code",
   "execution_count": null,
   "id": "7a5719f3-c1ea-44e3-8060-0c134ae78a42",
   "metadata": {},
   "outputs": [],
   "source": [
    "#sort values\n",
    "\n",
    "1. df.sort_values('line_item_id')\n",
    "2. df.sort_values('line_item_id', ascending=False)\n",
    "\n",
    "\n"
   ]
  },
  {
   "cell_type": "code",
   "execution_count": null,
   "id": "52fa5c14-6535-4e31-8ccb-7d16f8b4adc1",
   "metadata": {},
   "outputs": [],
   "source": [
    "#string values \n",
    "\n",
    "1. df['product_name'].str.upper() #this makes 'product_name' all upper case letters"
   ]
  },
  {
   "cell_type": "code",
   "execution_count": null,
   "id": "05b9069e-4b91-43d2-96d4-de21b536ef61",
   "metadata": {},
   "outputs": [],
   "source": [
    "#reducing data\n",
    "\n",
    "1.\n",
    "#using groupby\n",
    "    #takes all the rows with the SAME PRODUCT\n",
    "df.groupby('category').sum()\n",
    "\n",
    "#here we first group by category \"df.groupby\"\n",
    "#then take their respective \"[quantity]\"\n",
    "#get the sum of their quantities \".sum()\"\n",
    "totalnumber_ofeachitem = df.groupby('category')['quantity'].sum()\n",
    "totalnumber_ofeachitem"
   ]
  },
  {
   "cell_type": "code",
   "execution_count": null,
   "id": "331b04b2-d9e9-4856-a005-fbcfb5fa304e",
   "metadata": {},
   "outputs": [],
   "source": []
  }
 ],
 "metadata": {
  "kernelspec": {
   "display_name": "Python [conda env:base] *",
   "language": "python",
   "name": "conda-base-py"
  },
  "language_info": {
   "codemirror_mode": {
    "name": "ipython",
    "version": 3
   },
   "file_extension": ".py",
   "mimetype": "text/x-python",
   "name": "python",
   "nbconvert_exporter": "python",
   "pygments_lexer": "ipython3",
   "version": "3.12.7"
  }
 },
 "nbformat": 4,
 "nbformat_minor": 5
}
