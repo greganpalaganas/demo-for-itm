{
 "cells": [
  {
   "cell_type": "markdown",
   "id": "e4eb0a6c-acfa-4bc2-807b-b346d72be2ab",
   "metadata": {},
   "source": [
    "## Downloading and storing the Gutenberg bible text"
   ]
  },
  {
   "cell_type": "code",
   "execution_count": 1,
   "id": "787eb4d9-d431-44a8-9241-d5df571bab2e",
   "metadata": {},
   "outputs": [],
   "source": [
    "import urllib.request\n",
    "\n",
    "url = \"https://www.gutenberg.org/cache/epub/10/pg10.txt\"\n",
    "response = urllib.request.urlopen(url)\n",
    "pg10_bytes = response.read()\n",
    "pg10 = pg10_bytes.decode(\"utf-8\")"
   ]
  },
  {
   "cell_type": "markdown",
   "id": "2bc79c92-1e0f-40e3-a8b9-eb90bc3a7e4d",
   "metadata": {},
   "source": [
    "## Question 1: How many lines does the string have?"
   ]
  },
  {
   "cell_type": "code",
   "execution_count": 2,
   "id": "e2f4ee70-60fd-4b4c-a55e-4451282f077f",
   "metadata": {},
   "outputs": [
    {
     "name": "stdout",
     "output_type": "stream",
     "text": [
      "Number of lines: 99968\n"
     ]
    }
   ],
   "source": [
    "num_lines = pg10.count('\\n')\n",
    "print(\"Number of lines:\", num_lines)"
   ]
  },
  {
   "cell_type": "markdown",
   "id": "68bad9e9-21eb-407c-8b55-ec435a10a36d",
   "metadata": {},
   "source": [
    "## Question 2: How many words does the string have? (where a word is any set of directly-adjacent alphabet characters)"
   ]
  },
  {
   "cell_type": "code",
   "execution_count": 3,
   "id": "bb8ef367-d3b4-4f36-8982-1af6dd76a2f6",
   "metadata": {},
   "outputs": [
    {
     "name": "stdout",
     "output_type": "stream",
     "text": [
      "Number of words: 795227\n"
     ]
    }
   ],
   "source": [
    "import re\n",
    "\n",
    "words = re.findall(r'[a-zA-Z]+', pg10)\n",
    "num_words = len(words)\n",
    "print(\"Number of words:\", num_words)"
   ]
  },
  {
   "cell_type": "markdown",
   "id": "ce3d7d35-78c8-475d-b430-e48aa7960a83",
   "metadata": {},
   "source": [
    "## Question 3: How many times does the word \"apostle\", ignoring capitalization, appear in the string?"
   ]
  },
  {
   "cell_type": "code",
   "execution_count": 4,
   "id": "039f8a9f-fef3-46d4-94a5-d4b6edd1ad61",
   "metadata": {},
   "outputs": [
    {
     "name": "stdout",
     "output_type": "stream",
     "text": [
      "Occurrences of 'apostle': 47\n"
     ]
    }
   ],
   "source": [
    "apostle_count = sum(1 for word in words if word.lower() == 'apostle')\n",
    "print(\"Occurrences of 'apostle':\", apostle_count)"
   ]
  },
  {
   "cell_type": "markdown",
   "id": "28da8cf6-5247-4027-a30d-6bd0cc0eb1dd",
   "metadata": {},
   "source": [
    "## Question 4: What is the most common word, ignoring capitalization, in the string? (where a word is any set of directly-adjacent alphabet characters)"
   ]
  },
  {
   "cell_type": "code",
   "execution_count": 5,
   "id": "4a1aba6e-893c-4b9c-86cd-356639573ec9",
   "metadata": {},
   "outputs": [
    {
     "name": "stdout",
     "output_type": "stream",
     "text": [
      "Most common word: the\n",
      "Occurrences: 64309\n"
     ]
    }
   ],
   "source": [
    "from collections import Counter\n",
    "\n",
    "word_freq = Counter(word.lower() for word in words)\n",
    "most_common_word, most_common_count = word_freq.most_common(1)[0]\n",
    "print(\"Most common word:\", most_common_word)\n",
    "print(\"Occurrences:\", most_common_count)"
   ]
  }
 ],
 "metadata": {
  "kernelspec": {
   "display_name": "Python [conda env:base] *",
   "language": "python",
   "name": "conda-base-py"
  },
  "language_info": {
   "codemirror_mode": {
    "name": "ipython",
    "version": 3
   },
   "file_extension": ".py",
   "mimetype": "text/x-python",
   "name": "python",
   "nbconvert_exporter": "python",
   "pygments_lexer": "ipython3",
   "version": "3.12.7"
  }
 },
 "nbformat": 4,
 "nbformat_minor": 5
}
